{
 "cells": [
  {
   "cell_type": "code",
   "execution_count": 1,
   "metadata": {},
   "outputs": [],
   "source": [
    "import pandas as pd\n",
    "import numpy as np\n",
    "import matplotlib.pyplot as plt\n",
    "import seaborn as sns\n",
    "%matplotlib inline\n",
    "from sklearn.preprocessing import LabelEncoder\n",
    "from sklearn.preprocessing import OneHotEncoder\n",
    "from sklearn.model_selection import train_test_split\n",
    "from sklearn.metrics import accuracy_score, confusion_matrix,precision_score,classification_report"
   ]
  },
  {
   "cell_type": "code",
   "execution_count": 2,
   "metadata": {},
   "outputs": [],
   "source": [
    "sample_df = pd.read_csv('Sample.csv')\n",
    "train_df = pd.read_csv('Train.csv',encoding='latin-1')\n",
    "test_df = pd.read_csv('Test.csv',encoding='latin-1')\n",
    "train_df = train_df.dropna(subset=['IS_HCP'])"
   ]
  },
  {
   "cell_type": "code",
   "execution_count": 3,
   "metadata": {},
   "outputs": [],
   "source": [
    "train_df.IS_HCP = train_df.IS_HCP.astype('int')\n"
   ]
  },
  {
   "cell_type": "code",
   "execution_count": 4,
   "metadata": {},
   "outputs": [
    {
     "data": {
      "text/plain": [
       "IS_HCP\n",
       "0    79756\n",
       "1    34180\n",
       "Name: count, dtype: int64"
      ]
     },
     "execution_count": 4,
     "metadata": {},
     "output_type": "execute_result"
    }
   ],
   "source": [
    "train_df.IS_HCP.value_counts()"
   ]
  },
  {
   "cell_type": "code",
   "execution_count": 5,
   "metadata": {},
   "outputs": [
    {
     "data": {
      "text/plain": [
       "<Axes: xlabel='IS_HCP', ylabel='count'>"
      ]
     },
     "execution_count": 5,
     "metadata": {},
     "output_type": "execute_result"
    },
    {
     "data": {
      "image/png": "[encoded data removed]",
      "text/plain": [
       "<Figure size 640x480 with 1 Axes>"
      ]
     },
     "metadata": {},
     "output_type": "display_data"
    }
   ],
   "source": [
    "sns.countplot(data=train_df, x='IS_HCP')"
   ]
  },
  {
   "cell_type": "code",
   "execution_count": 6,
   "metadata": {},
   "outputs": [],
   "source": [
    "train_df = train_df.dropna(subset=['USERPLATFORMUID','USERAGENT'])"
   ]
  },
  {
   "cell_type": "code",
   "execution_count": 7,
   "metadata": {},
   "outputs": [],
   "source": [
    "df = pd.concat([train_df,test_df])"
   ]
  },
  {
   "cell_type": "code",
   "execution_count": 8,
   "metadata": {},
   "outputs": [
    {
     "data": {
      "text/plain": [
       "ID                 142423\n",
       "DEVICETYPE              4\n",
       "PLATFORM_ID            15\n",
       "BIDREQUESTIP        37055\n",
       "USERPLATFORMUID     63423\n",
       "USERCITY             4547\n",
       "USERZIPCODE         11810\n",
       "USERAGENT            4626\n",
       "PLATFORMTYPE            5\n",
       "CHANNELTYPE             1\n",
       "URL                  5672\n",
       "KEYWORDS             2548\n",
       "TAXONOMY              207\n",
       "IS_HCP                  2\n",
       "dtype: int64"
      ]
     },
     "execution_count": 8,
     "metadata": {},
     "output_type": "execute_result"
    }
   ],
   "source": [
    "df.nunique()"
   ]
  },
  {
   "cell_type": "code",
   "execution_count": 9,
   "metadata": {},
   "outputs": [],
   "source": [
    "df=df.drop(['TAXONOMY','CHANNELTYPE'],axis=1)"
   ]
  },
  {
   "cell_type": "code",
   "execution_count": 10,
   "metadata": {},
   "outputs": [
    {
     "name": "stdout",
     "output_type": "stream",
     "text": [
      "<class 'pandas.core.frame.DataFrame'>\n",
      "Index: 142423 entries, 0 to 28492\n",
      "Data columns (total 12 columns):\n",
      " #   Column           Non-Null Count   Dtype  \n",
      "---  ------           --------------   -----  \n",
      " 0   ID               142423 non-null  int64  \n",
      " 1   DEVICETYPE       142423 non-null  object \n",
      " 2   PLATFORM_ID      142423 non-null  int64  \n",
      " 3   BIDREQUESTIP     142423 non-null  object \n",
      " 4   USERPLATFORMUID  142423 non-null  object \n",
      " 5   USERCITY         134506 non-null  object \n",
      " 6   USERZIPCODE      136717 non-null  float64\n",
      " 7   USERAGENT        142422 non-null  object \n",
      " 8   PLATFORMTYPE     142423 non-null  object \n",
      " 9   URL              142423 non-null  object \n",
      " 10  KEYWORDS         142423 non-null  object \n",
      " 11  IS_HCP           113930 non-null  float64\n",
      "dtypes: float64(2), int64(2), object(8)\n",
      "memory usage: 14.1+ MB\n"
     ]
    }
   ],
   "source": [
    "df.info()"
   ]
  },
  {
   "cell_type": "code",
   "execution_count": 11,
   "metadata": {},
   "outputs": [
    {
     "data": {
      "text/plain": [
       "ID                 142423\n",
       "DEVICETYPE              4\n",
       "PLATFORM_ID            15\n",
       "BIDREQUESTIP        37055\n",
       "USERPLATFORMUID     63423\n",
       "USERCITY             4547\n",
       "USERZIPCODE         11810\n",
       "USERAGENT            4626\n",
       "PLATFORMTYPE            5\n",
       "URL                  5672\n",
       "KEYWORDS             2548\n",
       "IS_HCP                  2\n",
       "dtype: int64"
      ]
     },
     "execution_count": 11,
     "metadata": {},
     "output_type": "execute_result"
    }
   ],
   "source": [
    "df.nunique()"
   ]
  },
  {
   "cell_type": "code",
   "execution_count": 12,
   "metadata": {},
   "outputs": [],
   "source": [
    "numerical_cols = [cols for cols in df.columns if df[cols].dtype in ['int64','float64']]\n",
    "numerical_cols.remove('IS_HCP')"
   ]
  },
  {
   "cell_type": "code",
   "execution_count": 13,
   "metadata": {},
   "outputs": [
    {
     "data": {
      "text/plain": [
       "ID                0\n",
       "PLATFORM_ID       0\n",
       "USERZIPCODE    5706\n",
       "dtype: int64"
      ]
     },
     "execution_count": 13,
     "metadata": {},
     "output_type": "execute_result"
    }
   ],
   "source": [
    "df[numerical_cols].isnull().sum()"
   ]
  },
  {
   "cell_type": "code",
   "execution_count": 14,
   "metadata": {},
   "outputs": [],
   "source": [
    "df['USERZIPCODE_flag'] = df['USERZIPCODE'].isnull().astype(int)"
   ]
  },
  {
   "cell_type": "code",
   "execution_count": 15,
   "metadata": {},
   "outputs": [],
   "source": [
    "df[numerical_cols] =  df[numerical_cols].fillna(df[numerical_cols].mode().iloc[0])"
   ]
  },
  {
   "cell_type": "code",
   "execution_count": 16,
   "metadata": {},
   "outputs": [],
   "source": [
    "categorical_cols = [cols for cols in df.columns if df[cols].dtype == 'object']"
   ]
  },
  {
   "cell_type": "code",
   "execution_count": 17,
   "metadata": {},
   "outputs": [
    {
     "data": {
      "text/plain": [
       "DEVICETYPE             4\n",
       "BIDREQUESTIP       37055\n",
       "USERPLATFORMUID    63423\n",
       "USERCITY            4547\n",
       "USERAGENT           4626\n",
       "PLATFORMTYPE           5\n",
       "URL                 5672\n",
       "KEYWORDS            2548\n",
       "dtype: int64"
      ]
     },
     "execution_count": 17,
     "metadata": {},
     "output_type": "execute_result"
    }
   ],
   "source": [
    "df[categorical_cols].nunique()"
   ]
  },
  {
   "cell_type": "code",
   "execution_count": 18,
   "metadata": {},
   "outputs": [
    {
     "data": {
      "text/plain": [
       "DEVICETYPE            0\n",
       "BIDREQUESTIP          0\n",
       "USERPLATFORMUID       0\n",
       "USERCITY           7917\n",
       "USERAGENT             1\n",
       "PLATFORMTYPE          0\n",
       "URL                   0\n",
       "KEYWORDS              0\n",
       "dtype: int64"
      ]
     },
     "execution_count": 18,
     "metadata": {},
     "output_type": "execute_result"
    }
   ],
   "source": [
    "df[categorical_cols].isnull().sum()"
   ]
  },
  {
   "cell_type": "code",
   "execution_count": 19,
   "metadata": {},
   "outputs": [],
   "source": [
    "mapping = df.groupby('USERZIPCODE')['USERCITY'].apply(lambda x: x.mode()[0] if len(x.mode()) > 0 else None).to_dict()\n",
    "df['USERCITY'] = df['USERCITY'].fillna(df['USERZIPCODE'].map(mapping))\n",
    "\n"
   ]
  },
  {
   "cell_type": "code",
   "execution_count": 20,
   "metadata": {},
   "outputs": [],
   "source": [
    "df['USERCITY_flag'] = df['USERCITY'].isnull().astype(int)"
   ]
  },
  {
   "cell_type": "code",
   "execution_count": 21,
   "metadata": {},
   "outputs": [],
   "source": [
    "df[categorical_cols]=df[categorical_cols].fillna(df[categorical_cols].mode().iloc[0])\n"
   ]
  },
  {
   "cell_type": "code",
   "execution_count": 22,
   "metadata": {},
   "outputs": [
    {
     "data": {
      "text/plain": [
       "ID                      0\n",
       "DEVICETYPE              0\n",
       "PLATFORM_ID             0\n",
       "BIDREQUESTIP            0\n",
       "USERPLATFORMUID         0\n",
       "USERCITY                0\n",
       "USERZIPCODE             0\n",
       "USERAGENT               0\n",
       "PLATFORMTYPE            0\n",
       "URL                     0\n",
       "KEYWORDS                0\n",
       "IS_HCP              28493\n",
       "USERZIPCODE_flag        0\n",
       "USERCITY_flag           0\n",
       "dtype: int64"
      ]
     },
     "execution_count": 22,
     "metadata": {},
     "output_type": "execute_result"
    }
   ],
   "source": [
    "df.isnull().sum()"
   ]
  },
  {
   "cell_type": "code",
   "execution_count": 23,
   "metadata": {},
   "outputs": [],
   "source": [
    "le = LabelEncoder()\n",
    "for col in categorical_cols:\n",
    "    df[col] = le.fit_transform(df[col])"
   ]
  },
  {
   "cell_type": "code",
   "execution_count": 24,
   "metadata": {},
   "outputs": [],
   "source": [
    "df_train = df[~np.isnan(df['IS_HCP'])]\n",
    "df_test = df[np.isnan(df['IS_HCP'])]\n"
   ]
  },
  {
   "cell_type": "code",
   "execution_count": 25,
   "metadata": {},
   "outputs": [],
   "source": [
    "y = df_train['IS_HCP']\n",
    "X = df_train.drop(['IS_HCP','ID'],axis=1).copy()"
   ]
  },
  {
   "cell_type": "code",
   "execution_count": 26,
   "metadata": {},
   "outputs": [],
   "source": [
    "X_train,X_test,y_train,y_test = train_test_split(X,y,test_size=0.15,random_state=4)"
   ]
  },
  {
   "cell_type": "code",
   "execution_count": 27,
   "metadata": {},
   "outputs": [],
   "source": [
    "# from sklearn.linear_model import LogisticRegression\n",
    "# from sklearn.svm import SVC\n",
    "# from sklearn.naive_bayes import MultinomialNB\n",
    "# from sklearn.naive_bayes import BernoulliNB\n",
    "# from sklearn.tree import DecisionTreeClassifier\n",
    "# from sklearn.neighbors import KNeighborsClassifier\n",
    "from sklearn.ensemble import RandomForestClassifier\n",
    "# from sklearn.ensemble import AdaBoostClassifier\n",
    "from sklearn.ensemble import BaggingClassifier\n",
    "from sklearn.ensemble import ExtraTreesClassifier\n",
    "from xgboost import XGBClassifier\n",
    "# from sklearn.ensemble import GradientBoostingClassifier"
   ]
  },
  {
   "cell_type": "code",
   "execution_count": 28,
   "metadata": {},
   "outputs": [],
   "source": [
    "# svc = SVC(kernel='sigmoid', gamma=1.0)\n",
    "# knc = KNeighborsClassifier()\n",
    "# mnb = MultinomialNB()\n",
    "# bnb = BernoulliNB()\n",
    "# dtc = DecisionTreeClassifier(max_depth=5)\n",
    "# gbdt = GradientBoostingClassifier(n_estimators=100,random_state=42)\n",
    "# lrc = LogisticRegression(solver='liblinear', penalty='l1')\n",
    "# abc = AdaBoostClassifier(n_estimators=50, random_state=2)\n",
    "\n"
   ]
  },
  {
   "cell_type": "code",
   "execution_count": 29,
   "metadata": {},
   "outputs": [],
   "source": [
    "rfc = RandomForestClassifier(n_estimators=200, random_state=4)\n",
    "bc = BaggingClassifier(n_estimators=200, random_state=4, max_samples=0.9, max_features=0.9)\n",
    "etc = ExtraTreesClassifier(n_estimators=200, random_state=4)\n",
    "xgb = XGBClassifier(n_estimators=200,random_state=4,learning_rate=0.1,max_depth=25)"
   ]
  },
  {
   "cell_type": "code",
   "execution_count": 30,
   "metadata": {},
   "outputs": [],
   "source": [
    "clfs = {\n",
    "    # 'SVC' : svc,\n",
    "    # 'KNN' : knc, \n",
    "    # 'MNB': mnb,\n",
    "    # 'BNB': bnb,\n",
    "    # 'DT': dtc, \n",
    "    # 'LR': lrc, \n",
    "    'RF': rfc, \n",
    "    # 'AdaBoost': abc, \n",
    "    'BgC': bc, \n",
    "    'ETC': etc,\n",
    "    # 'GBDT':gbdt,\n",
    "    'xgb':xgb\n",
    "}"
   ]
  },
  {
   "cell_type": "code",
   "execution_count": 31,
   "metadata": {},
   "outputs": [],
   "source": [
    "def train_classifier(clf,X_train,y_train,X_test,y_test):\n",
    "    clf.fit(X_train,y_train)\n",
    "    y_pred = clf.predict(X_test)\n",
    "    accuracy = accuracy_score(y_test,y_pred)\n",
    "    precision = precision_score(y_test,y_pred,zero_division=1,average='weighted')\n",
    "    \n",
    "    return accuracy,precision"
   ]
  },
  {
   "cell_type": "code",
   "execution_count": 32,
   "metadata": {},
   "outputs": [
    {
     "name": "stdout",
     "output_type": "stream",
     "text": [
      "For  RF\n",
      "Accuracy -  0.9916910473961381\n",
      "Precision -  0.9917070463334671\n",
      "For  BgC\n",
      "Accuracy -  0.9941486249268578\n",
      "Precision -  0.9941478307960501\n",
      "For  ETC\n",
      "Accuracy -  0.98765359859567\n",
      "Precision -  0.9877186624808254\n",
      "For  xgb\n",
      "Accuracy -  0.9953774136922177\n",
      "Precision -  0.9953755452910003\n"
     ]
    }
   ],
   "source": [
    "accuracy_scores = []\n",
    "precision_scores = []\n",
    "\n",
    "for name,clf in clfs.items():\n",
    "    \n",
    "    current_accuracy,current_precision = train_classifier(clf, X_train,y_train,X_test,y_test)\n",
    "    \n",
    "    print(\"For \",name)\n",
    "    print(\"Accuracy - \",current_accuracy)\n",
    "    print(\"Precision - \",current_precision)\n",
    "    \n",
    "    \n",
    "    accuracy_scores.append(current_accuracy)\n",
    "    precision_scores.append(current_precision)"
   ]
  },
  {
   "cell_type": "code",
   "execution_count": 33,
   "metadata": {},
   "outputs": [
    {
     "data": {
      "text/html": [
       "<div>\n",
       "<style scoped>\n",
       "    .dataframe tbody tr th:only-of-type {\n",
       "        vertical-align: middle;\n",
       "    }\n",
       "\n",
       "    .dataframe tbody tr th {\n",
       "        vertical-align: top;\n",
       "    }\n",
       "\n",
       "    .dataframe thead th {\n",
       "        text-align: right;\n",
       "    }\n",
       "</style>\n",
       "<table border=\"1\" class=\"dataframe\">\n",
       "  <thead>\n",
       "    <tr style=\"text-align: right;\">\n",
       "      <th></th>\n",
       "      <th>Algorithm</th>\n",
       "      <th>Accuracy</th>\n",
       "      <th>Precision</th>\n",
       "    </tr>\n",
       "  </thead>\n",
       "  <tbody>\n",
       "    <tr>\n",
       "      <th>3</th>\n",
       "      <td>xgb</td>\n",
       "      <td>0.995377</td>\n",
       "      <td>0.995376</td>\n",
       "    </tr>\n",
       "    <tr>\n",
       "      <th>1</th>\n",
       "      <td>BgC</td>\n",
       "      <td>0.994149</td>\n",
       "      <td>0.994148</td>\n",
       "    </tr>\n",
       "    <tr>\n",
       "      <th>0</th>\n",
       "      <td>RF</td>\n",
       "      <td>0.991691</td>\n",
       "      <td>0.991707</td>\n",
       "    </tr>\n",
       "    <tr>\n",
       "      <th>2</th>\n",
       "      <td>ETC</td>\n",
       "      <td>0.987654</td>\n",
       "      <td>0.987719</td>\n",
       "    </tr>\n",
       "  </tbody>\n",
       "</table>\n",
       "</div>"
      ],
      "text/plain": [
       "  Algorithm  Accuracy  Precision\n",
       "3       xgb  0.995377   0.995376\n",
       "1       BgC  0.994149   0.994148\n",
       "0        RF  0.991691   0.991707\n",
       "2       ETC  0.987654   0.987719"
      ]
     },
     "execution_count": 33,
     "metadata": {},
     "output_type": "execute_result"
    }
   ],
   "source": [
    "performance_df = pd.DataFrame({'Algorithm':clfs.keys(),'Accuracy':accuracy_scores,'Precision':precision_scores}).sort_values('Accuracy',ascending=False)\n",
    "performance_df"
   ]
  },
  {
   "cell_type": "code",
   "execution_count": 34,
   "metadata": {},
   "outputs": [
    {
     "name": "stdout",
     "output_type": "stream",
     "text": [
      "Accuracy 0.9956699824458748\n",
      "Precision 0.9923857868020305\n"
     ]
    }
   ],
   "source": [
    "from sklearn.ensemble import StackingClassifier\n",
    "estimators=[('BgC', bc), ('etc', etc), ('xgb', xgb),('rfc',rfc)]\n",
    "final_estimator=RandomForestClassifier(n_estimators=200,random_state=4)\n",
    "clf = StackingClassifier(estimators=estimators, final_estimator=final_estimator)\n",
    "clf.fit(X_train,y_train)\n",
    "y_pred = clf.predict(X_test)\n",
    "print(\"Accuracy\",accuracy_score(y_test,y_pred))\n",
    "print(\"Precision\",precision_score(y_test,y_pred))"
   ]
  },
  {
   "cell_type": "code",
   "execution_count": 35,
   "metadata": {},
   "outputs": [
    {
     "data": {
      "image/png": "[encoded data removed]",
      "text/plain": [
       "<Figure size 400x400 with 1 Axes>"
      ]
     },
     "metadata": {},
     "output_type": "display_data"
    }
   ],
   "source": [
    "cm = confusion_matrix(y_test, y_pred)\n",
    "\n",
    "plt.figure(figsize=(4, 4))\n",
    "sns.heatmap(cm, annot=True, cmap='Blues', fmt='d', cbar=False)\n",
    "plt.xlabel('Predicted')\n",
    "plt.ylabel('Actual')\n",
    "plt.title('Confusion Matrix')\n",
    "plt.show()"
   ]
  },
  {
   "cell_type": "code",
   "execution_count": 36,
   "metadata": {},
   "outputs": [
    {
     "name": "stdout",
     "output_type": "stream",
     "text": [
      "Classification Report:\n",
      "               precision    recall  f1-score   support\n",
      "\n",
      "         0.0       1.00      1.00      1.00     11972\n",
      "         1.0       0.99      0.99      0.99      5118\n",
      "\n",
      "    accuracy                           1.00     17090\n",
      "   macro avg       0.99      0.99      0.99     17090\n",
      "weighted avg       1.00      1.00      1.00     17090\n",
      "\n"
     ]
    }
   ],
   "source": [
    "report = classification_report(y_test, y_pred)\n",
    "print(\"Classification Report:\\n\", report)"
   ]
  },
  {
   "cell_type": "code",
   "execution_count": 37,
   "metadata": {},
   "outputs": [
    {
     "name": "stderr",
     "output_type": "stream",
     "text": [
      "C:\\Users\\ASUS\\AppData\\Local\\Temp\\ipykernel_13972\\3334368815.py:2: SettingWithCopyWarning: \n",
      "A value is trying to be set on a copy of a slice from a DataFrame.\n",
      "Try using .loc[row_indexer,col_indexer] = value instead\n",
      "\n",
      "See the caveats in the documentation: https://pandas.pydata.org/pandas-docs/stable/user_guide/indexing.html#returning-a-view-versus-a-copy\n",
      "  df_test['IS_HCP']=clf.predict(df_test_processing)\n"
     ]
    }
   ],
   "source": [
    "df_test_processing = df_test.drop(['IS_HCP','ID'],axis=1).copy()\n",
    "df_test['IS_HCP']=clf.predict(df_test_processing)\n",
    "submission = df_test[['ID','IS_HCP']]\n",
    "submission.to_csv('output.csv',index=False)"
   ]
  },
  {
   "cell_type": "code",
   "execution_count": 68,
   "metadata": {},
   "outputs": [
    {
     "data": {
      "text/html": [
       "<div>\n",
       "<style scoped>\n",
       "    .dataframe tbody tr th:only-of-type {\n",
       "        vertical-align: middle;\n",
       "    }\n",
       "\n",
       "    .dataframe tbody tr th {\n",
       "        vertical-align: top;\n",
       "    }\n",
       "\n",
       "    .dataframe thead th {\n",
       "        text-align: right;\n",
       "    }\n",
       "</style>\n",
       "<table border=\"1\" class=\"dataframe\">\n",
       "  <thead>\n",
       "    <tr style=\"text-align: right;\">\n",
       "      <th></th>\n",
       "      <th>ID</th>\n",
       "      <th>IS_HCP</th>\n",
       "    </tr>\n",
       "  </thead>\n",
       "  <tbody>\n",
       "    <tr>\n",
       "      <th>0</th>\n",
       "      <td>115501</td>\n",
       "      <td>0.0</td>\n",
       "    </tr>\n",
       "    <tr>\n",
       "      <th>1</th>\n",
       "      <td>115502</td>\n",
       "      <td>1.0</td>\n",
       "    </tr>\n",
       "    <tr>\n",
       "      <th>2</th>\n",
       "      <td>115503</td>\n",
       "      <td>0.0</td>\n",
       "    </tr>\n",
       "    <tr>\n",
       "      <th>3</th>\n",
       "      <td>115504</td>\n",
       "      <td>0.0</td>\n",
       "    </tr>\n",
       "    <tr>\n",
       "      <th>4</th>\n",
       "      <td>115505</td>\n",
       "      <td>1.0</td>\n",
       "    </tr>\n",
       "  </tbody>\n",
       "</table>\n",
       "</div>"
      ],
      "text/plain": [
       "       ID  IS_HCP\n",
       "0  115501     0.0\n",
       "1  115502     1.0\n",
       "2  115503     0.0\n",
       "3  115504     0.0\n",
       "4  115505     1.0"
      ]
     },
     "execution_count": 68,
     "metadata": {},
     "output_type": "execute_result"
    }
   ],
   "source": [
    "submission.head()"
   ]
  },
  {
   "cell_type": "code",
   "execution_count": 38,
   "metadata": {},
   "outputs": [
    {
     "data": {
      "text/plain": [
       "(28493, 2)"
      ]
     },
     "execution_count": 38,
     "metadata": {},
     "output_type": "execute_result"
    }
   ],
   "source": [
    "submission.shape"
   ]
  },
  {
   "cell_type": "code",
   "execution_count": 39,
   "metadata": {},
   "outputs": [
    {
     "data": {
      "text/html": [
       "<div>\n",
       "<style scoped>\n",
       "    .dataframe tbody tr th:only-of-type {\n",
       "        vertical-align: middle;\n",
       "    }\n",
       "\n",
       "    .dataframe tbody tr th {\n",
       "        vertical-align: top;\n",
       "    }\n",
       "\n",
       "    .dataframe thead th {\n",
       "        text-align: right;\n",
       "    }\n",
       "</style>\n",
       "<table border=\"1\" class=\"dataframe\">\n",
       "  <thead>\n",
       "    <tr style=\"text-align: right;\">\n",
       "      <th></th>\n",
       "      <th>ID</th>\n",
       "      <th>DEVICETYPE</th>\n",
       "      <th>PLATFORM_ID</th>\n",
       "      <th>BIDREQUESTIP</th>\n",
       "      <th>USERPLATFORMUID</th>\n",
       "      <th>USERCITY</th>\n",
       "      <th>USERZIPCODE</th>\n",
       "      <th>USERAGENT</th>\n",
       "      <th>PLATFORMTYPE</th>\n",
       "      <th>URL</th>\n",
       "      <th>KEYWORDS</th>\n",
       "      <th>IS_HCP</th>\n",
       "      <th>USERZIPCODE_flag</th>\n",
       "      <th>USERCITY_flag</th>\n",
       "    </tr>\n",
       "  </thead>\n",
       "  <tbody>\n",
       "    <tr>\n",
       "      <th>0</th>\n",
       "      <td>1001</td>\n",
       "      <td>0</td>\n",
       "      <td>2</td>\n",
       "      <td>7193</td>\n",
       "      <td>26134</td>\n",
       "      <td>3276</td>\n",
       "      <td>97206.0</td>\n",
       "      <td>3100</td>\n",
       "      <td>3</td>\n",
       "      <td>746</td>\n",
       "      <td>474</td>\n",
       "      <td>0.0</td>\n",
       "      <td>0</td>\n",
       "      <td>0</td>\n",
       "    </tr>\n",
       "    <tr>\n",
       "      <th>1</th>\n",
       "      <td>1002</td>\n",
       "      <td>0</td>\n",
       "      <td>2</td>\n",
       "      <td>21233</td>\n",
       "      <td>47841</td>\n",
       "      <td>132</td>\n",
       "      <td>22202.0</td>\n",
       "      <td>2913</td>\n",
       "      <td>3</td>\n",
       "      <td>789</td>\n",
       "      <td>111</td>\n",
       "      <td>0.0</td>\n",
       "      <td>0</td>\n",
       "      <td>0</td>\n",
       "    </tr>\n",
       "    <tr>\n",
       "      <th>2</th>\n",
       "      <td>1003</td>\n",
       "      <td>0</td>\n",
       "      <td>2</td>\n",
       "      <td>21727</td>\n",
       "      <td>41220</td>\n",
       "      <td>2783</td>\n",
       "      <td>83654.0</td>\n",
       "      <td>2913</td>\n",
       "      <td>3</td>\n",
       "      <td>746</td>\n",
       "      <td>474</td>\n",
       "      <td>0.0</td>\n",
       "      <td>0</td>\n",
       "      <td>0</td>\n",
       "    </tr>\n",
       "    <tr>\n",
       "      <th>3</th>\n",
       "      <td>1004</td>\n",
       "      <td>0</td>\n",
       "      <td>3</td>\n",
       "      <td>4614</td>\n",
       "      <td>17268</td>\n",
       "      <td>3867</td>\n",
       "      <td>229114624.0</td>\n",
       "      <td>3191</td>\n",
       "      <td>3</td>\n",
       "      <td>394</td>\n",
       "      <td>282</td>\n",
       "      <td>1.0</td>\n",
       "      <td>0</td>\n",
       "      <td>1</td>\n",
       "    </tr>\n",
       "    <tr>\n",
       "      <th>4</th>\n",
       "      <td>1005</td>\n",
       "      <td>1</td>\n",
       "      <td>7</td>\n",
       "      <td>11083</td>\n",
       "      <td>39893</td>\n",
       "      <td>1821</td>\n",
       "      <td>77008.0</td>\n",
       "      <td>4371</td>\n",
       "      <td>3</td>\n",
       "      <td>1763</td>\n",
       "      <td>266</td>\n",
       "      <td>0.0</td>\n",
       "      <td>0</td>\n",
       "      <td>0</td>\n",
       "    </tr>\n",
       "  </tbody>\n",
       "</table>\n",
       "</div>"
      ],
      "text/plain": [
       "     ID  DEVICETYPE  PLATFORM_ID  BIDREQUESTIP  USERPLATFORMUID  USERCITY  \\\n",
       "0  1001           0            2          7193            26134      3276   \n",
       "1  1002           0            2         21233            47841       132   \n",
       "2  1003           0            2         21727            41220      2783   \n",
       "3  1004           0            3          4614            17268      3867   \n",
       "4  1005           1            7         11083            39893      1821   \n",
       "\n",
       "   USERZIPCODE  USERAGENT  PLATFORMTYPE   URL  KEYWORDS  IS_HCP  \\\n",
       "0      97206.0       3100             3   746       474     0.0   \n",
       "1      22202.0       2913             3   789       111     0.0   \n",
       "2      83654.0       2913             3   746       474     0.0   \n",
       "3  229114624.0       3191             3   394       282     1.0   \n",
       "4      77008.0       4371             3  1763       266     0.0   \n",
       "\n",
       "   USERZIPCODE_flag  USERCITY_flag  \n",
       "0                 0              0  \n",
       "1                 0              0  \n",
       "2                 0              0  \n",
       "3                 0              1  \n",
       "4                 0              0  "
      ]
     },
     "execution_count": 39,
     "metadata": {},
     "output_type": "execute_result"
    }
   ],
   "source": [
    "df_train.head()"
   ]
  },
  {
   "cell_type": "code",
   "execution_count": 40,
   "metadata": {},
   "outputs": [
    {
     "data": {
      "text/html": [
       "<div>\n",
       "<style scoped>\n",
       "    .dataframe tbody tr th:only-of-type {\n",
       "        vertical-align: middle;\n",
       "    }\n",
       "\n",
       "    .dataframe tbody tr th {\n",
       "        vertical-align: top;\n",
       "    }\n",
       "\n",
       "    .dataframe thead th {\n",
       "        text-align: right;\n",
       "    }\n",
       "</style>\n",
       "<table border=\"1\" class=\"dataframe\">\n",
       "  <thead>\n",
       "    <tr style=\"text-align: right;\">\n",
       "      <th></th>\n",
       "      <th>ID</th>\n",
       "      <th>DEVICETYPE</th>\n",
       "      <th>PLATFORM_ID</th>\n",
       "      <th>BIDREQUESTIP</th>\n",
       "      <th>USERPLATFORMUID</th>\n",
       "      <th>USERCITY</th>\n",
       "      <th>USERZIPCODE</th>\n",
       "      <th>USERAGENT</th>\n",
       "      <th>PLATFORMTYPE</th>\n",
       "      <th>CHANNELTYPE</th>\n",
       "      <th>URL</th>\n",
       "      <th>KEYWORDS</th>\n",
       "      <th>TAXONOMY</th>\n",
       "      <th>IS_HCP</th>\n",
       "    </tr>\n",
       "  </thead>\n",
       "  <tbody>\n",
       "    <tr>\n",
       "      <th>0</th>\n",
       "      <td>1001</td>\n",
       "      <td>Desktop</td>\n",
       "      <td>2</td>\n",
       "      <td>170.173.0.22</td>\n",
       "      <td>6974dcaa-f932-480e-9fb5-c52e20e1393a</td>\n",
       "      <td>Portland</td>\n",
       "      <td>97206.0</td>\n",
       "      <td>Mozilla/5.0 (Windows NT 10.0; Win64; x64) Appl...</td>\n",
       "      <td>Online Medical Journal</td>\n",
       "      <td>Website</td>\n",
       "      <td>https://www.cancertherapyadvisor.com/home/canc...</td>\n",
       "      <td>General|Endocrine|False|Medicine|Surgery|Urolo...</td>\n",
       "      <td>NaN</td>\n",
       "      <td>0</td>\n",
       "    </tr>\n",
       "    <tr>\n",
       "      <th>1</th>\n",
       "      <td>1002</td>\n",
       "      <td>Desktop</td>\n",
       "      <td>2</td>\n",
       "      <td>65.216.253.25</td>\n",
       "      <td>c12f3f8f-8fcf-484a-90e1-1ac04db8cdcf</td>\n",
       "      <td>Arlington</td>\n",
       "      <td>22202.0</td>\n",
       "      <td>Mozilla/5.0 (Macintosh; Intel Mac OS X 10_15_7...</td>\n",
       "      <td>Online Medical Journal</td>\n",
       "      <td>Website</td>\n",
       "      <td>https://www.cancertherapyadvisor.com/home/deci...</td>\n",
       "      <td>Bone Marrow|Radiography|Chronic|Oncology|Psych...</td>\n",
       "      <td>NaN</td>\n",
       "      <td>0</td>\n",
       "    </tr>\n",
       "    <tr>\n",
       "      <th>2</th>\n",
       "      <td>1003</td>\n",
       "      <td>Desktop</td>\n",
       "      <td>2</td>\n",
       "      <td>66.232.79.22</td>\n",
       "      <td>a698de4b-e200-46dd-b5fb-40402175ae18</td>\n",
       "      <td>New Meadows</td>\n",
       "      <td>83654.0</td>\n",
       "      <td>Mozilla/5.0 (Macintosh; Intel Mac OS X 10_15_7...</td>\n",
       "      <td>Online Medical Journal</td>\n",
       "      <td>Website</td>\n",
       "      <td>https://www.cancertherapyadvisor.com/home/canc...</td>\n",
       "      <td>General|Endocrine|False|Medicine|Surgery|Urolo...</td>\n",
       "      <td>NaN</td>\n",
       "      <td>0</td>\n",
       "    </tr>\n",
       "    <tr>\n",
       "      <th>3</th>\n",
       "      <td>1004</td>\n",
       "      <td>Desktop</td>\n",
       "      <td>3</td>\n",
       "      <td>137.54.125.246</td>\n",
       "      <td>45967533-75c8-4fbd-a00c-e6ff20447aaa</td>\n",
       "      <td>NaN</td>\n",
       "      <td>229114624.0</td>\n",
       "      <td>Mozilla/5.0 (Windows NT 10.0; Win64; x64) Appl...</td>\n",
       "      <td>Online Medical Journal</td>\n",
       "      <td>Website</td>\n",
       "      <td>https://globalrph.com/medcalcs/warfarin-mainte...</td>\n",
       "      <td>Dental|Total|Clinical|Pharmacology|Physicians|...</td>\n",
       "      <td>2084P0800X</td>\n",
       "      <td>1</td>\n",
       "    </tr>\n",
       "    <tr>\n",
       "      <th>4</th>\n",
       "      <td>1005</td>\n",
       "      <td>Mobile</td>\n",
       "      <td>7</td>\n",
       "      <td>174.202.231.99</td>\n",
       "      <td>a17e25be-532d-4cf5-b916-9308c8c3961f</td>\n",
       "      <td>Houston</td>\n",
       "      <td>77008.0</td>\n",
       "      <td>Mozilla/5.0 (iPhone; CPU iPhone OS 16_1_1 like...</td>\n",
       "      <td>Online Medical Journal</td>\n",
       "      <td>Website</td>\n",
       "      <td>https://www.cureus.com/articles/58184-a-review...</td>\n",
       "      <td>Critical Care|Emergency Medicine|General Pract...</td>\n",
       "      <td>NaN</td>\n",
       "      <td>0</td>\n",
       "    </tr>\n",
       "  </tbody>\n",
       "</table>\n",
       "</div>"
      ],
      "text/plain": [
       "     ID DEVICETYPE  PLATFORM_ID    BIDREQUESTIP  \\\n",
       "0  1001    Desktop            2    170.173.0.22   \n",
       "1  1002    Desktop            2   65.216.253.25   \n",
       "2  1003    Desktop            2    66.232.79.22   \n",
       "3  1004    Desktop            3  137.54.125.246   \n",
       "4  1005     Mobile            7  174.202.231.99   \n",
       "\n",
       "                        USERPLATFORMUID     USERCITY  USERZIPCODE  \\\n",
       "0  6974dcaa-f932-480e-9fb5-c52e20e1393a     Portland      97206.0   \n",
       "1  c12f3f8f-8fcf-484a-90e1-1ac04db8cdcf    Arlington      22202.0   \n",
       "2  a698de4b-e200-46dd-b5fb-40402175ae18  New Meadows      83654.0   \n",
       "3  45967533-75c8-4fbd-a00c-e6ff20447aaa          NaN  229114624.0   \n",
       "4  a17e25be-532d-4cf5-b916-9308c8c3961f      Houston      77008.0   \n",
       "\n",
       "                                           USERAGENT            PLATFORMTYPE  \\\n",
       "0  Mozilla/5.0 (Windows NT 10.0; Win64; x64) Appl...  Online Medical Journal   \n",
       "1  Mozilla/5.0 (Macintosh; Intel Mac OS X 10_15_7...  Online Medical Journal   \n",
       "2  Mozilla/5.0 (Macintosh; Intel Mac OS X 10_15_7...  Online Medical Journal   \n",
       "3  Mozilla/5.0 (Windows NT 10.0; Win64; x64) Appl...  Online Medical Journal   \n",
       "4  Mozilla/5.0 (iPhone; CPU iPhone OS 16_1_1 like...  Online Medical Journal   \n",
       "\n",
       "  CHANNELTYPE                                                URL  \\\n",
       "0     Website  https://www.cancertherapyadvisor.com/home/canc...   \n",
       "1     Website  https://www.cancertherapyadvisor.com/home/deci...   \n",
       "2     Website  https://www.cancertherapyadvisor.com/home/canc...   \n",
       "3     Website  https://globalrph.com/medcalcs/warfarin-mainte...   \n",
       "4     Website  https://www.cureus.com/articles/58184-a-review...   \n",
       "\n",
       "                                            KEYWORDS    TAXONOMY  IS_HCP  \n",
       "0  General|Endocrine|False|Medicine|Surgery|Urolo...         NaN       0  \n",
       "1  Bone Marrow|Radiography|Chronic|Oncology|Psych...         NaN       0  \n",
       "2  General|Endocrine|False|Medicine|Surgery|Urolo...         NaN       0  \n",
       "3  Dental|Total|Clinical|Pharmacology|Physicians|...  2084P0800X       1  \n",
       "4  Critical Care|Emergency Medicine|General Pract...         NaN       0  "
      ]
     },
     "execution_count": 40,
     "metadata": {},
     "output_type": "execute_result"
    }
   ],
   "source": [
    "train_df.head()"
   ]
  },
  {
   "cell_type": "code",
   "execution_count": 41,
   "metadata": {},
   "outputs": [
    {
     "name": "stderr",
     "output_type": "stream",
     "text": [
      "C:\\Users\\ASUS\\AppData\\Local\\Temp\\ipykernel_13972\\920785426.py:1: SettingWithCopyWarning: \n",
      "A value is trying to be set on a copy of a slice from a DataFrame.\n",
      "Try using .loc[row_indexer,col_indexer] = value instead\n",
      "\n",
      "See the caveats in the documentation: https://pandas.pydata.org/pandas-docs/stable/user_guide/indexing.html#returning-a-view-versus-a-copy\n",
      "  df_train['TAXONOMY'] = train_df['TAXONOMY']\n"
     ]
    }
   ],
   "source": [
    "df_train['TAXONOMY'] = train_df['TAXONOMY']"
   ]
  },
  {
   "cell_type": "code",
   "execution_count": 42,
   "metadata": {},
   "outputs": [
    {
     "data": {
      "text/html": [
       "<div>\n",
       "<style scoped>\n",
       "    .dataframe tbody tr th:only-of-type {\n",
       "        vertical-align: middle;\n",
       "    }\n",
       "\n",
       "    .dataframe tbody tr th {\n",
       "        vertical-align: top;\n",
       "    }\n",
       "\n",
       "    .dataframe thead th {\n",
       "        text-align: right;\n",
       "    }\n",
       "</style>\n",
       "<table border=\"1\" class=\"dataframe\">\n",
       "  <thead>\n",
       "    <tr style=\"text-align: right;\">\n",
       "      <th></th>\n",
       "      <th>ID</th>\n",
       "      <th>DEVICETYPE</th>\n",
       "      <th>PLATFORM_ID</th>\n",
       "      <th>BIDREQUESTIP</th>\n",
       "      <th>USERPLATFORMUID</th>\n",
       "      <th>USERCITY</th>\n",
       "      <th>USERZIPCODE</th>\n",
       "      <th>USERAGENT</th>\n",
       "      <th>PLATFORMTYPE</th>\n",
       "      <th>URL</th>\n",
       "      <th>KEYWORDS</th>\n",
       "      <th>IS_HCP</th>\n",
       "      <th>USERZIPCODE_flag</th>\n",
       "      <th>USERCITY_flag</th>\n",
       "      <th>TAXONOMY</th>\n",
       "    </tr>\n",
       "  </thead>\n",
       "  <tbody>\n",
       "    <tr>\n",
       "      <th>0</th>\n",
       "      <td>1001</td>\n",
       "      <td>0</td>\n",
       "      <td>2</td>\n",
       "      <td>7193</td>\n",
       "      <td>26134</td>\n",
       "      <td>3276</td>\n",
       "      <td>97206.0</td>\n",
       "      <td>3100</td>\n",
       "      <td>3</td>\n",
       "      <td>746</td>\n",
       "      <td>474</td>\n",
       "      <td>0.0</td>\n",
       "      <td>0</td>\n",
       "      <td>0</td>\n",
       "      <td>NaN</td>\n",
       "    </tr>\n",
       "    <tr>\n",
       "      <th>1</th>\n",
       "      <td>1002</td>\n",
       "      <td>0</td>\n",
       "      <td>2</td>\n",
       "      <td>21233</td>\n",
       "      <td>47841</td>\n",
       "      <td>132</td>\n",
       "      <td>22202.0</td>\n",
       "      <td>2913</td>\n",
       "      <td>3</td>\n",
       "      <td>789</td>\n",
       "      <td>111</td>\n",
       "      <td>0.0</td>\n",
       "      <td>0</td>\n",
       "      <td>0</td>\n",
       "      <td>NaN</td>\n",
       "    </tr>\n",
       "    <tr>\n",
       "      <th>2</th>\n",
       "      <td>1003</td>\n",
       "      <td>0</td>\n",
       "      <td>2</td>\n",
       "      <td>21727</td>\n",
       "      <td>41220</td>\n",
       "      <td>2783</td>\n",
       "      <td>83654.0</td>\n",
       "      <td>2913</td>\n",
       "      <td>3</td>\n",
       "      <td>746</td>\n",
       "      <td>474</td>\n",
       "      <td>0.0</td>\n",
       "      <td>0</td>\n",
       "      <td>0</td>\n",
       "      <td>NaN</td>\n",
       "    </tr>\n",
       "    <tr>\n",
       "      <th>3</th>\n",
       "      <td>1004</td>\n",
       "      <td>0</td>\n",
       "      <td>3</td>\n",
       "      <td>4614</td>\n",
       "      <td>17268</td>\n",
       "      <td>3867</td>\n",
       "      <td>229114624.0</td>\n",
       "      <td>3191</td>\n",
       "      <td>3</td>\n",
       "      <td>394</td>\n",
       "      <td>282</td>\n",
       "      <td>1.0</td>\n",
       "      <td>0</td>\n",
       "      <td>1</td>\n",
       "      <td>2084P0800X</td>\n",
       "    </tr>\n",
       "    <tr>\n",
       "      <th>4</th>\n",
       "      <td>1005</td>\n",
       "      <td>1</td>\n",
       "      <td>7</td>\n",
       "      <td>11083</td>\n",
       "      <td>39893</td>\n",
       "      <td>1821</td>\n",
       "      <td>77008.0</td>\n",
       "      <td>4371</td>\n",
       "      <td>3</td>\n",
       "      <td>1763</td>\n",
       "      <td>266</td>\n",
       "      <td>0.0</td>\n",
       "      <td>0</td>\n",
       "      <td>0</td>\n",
       "      <td>NaN</td>\n",
       "    </tr>\n",
       "  </tbody>\n",
       "</table>\n",
       "</div>"
      ],
      "text/plain": [
       "     ID  DEVICETYPE  PLATFORM_ID  BIDREQUESTIP  USERPLATFORMUID  USERCITY  \\\n",
       "0  1001           0            2          7193            26134      3276   \n",
       "1  1002           0            2         21233            47841       132   \n",
       "2  1003           0            2         21727            41220      2783   \n",
       "3  1004           0            3          4614            17268      3867   \n",
       "4  1005           1            7         11083            39893      1821   \n",
       "\n",
       "   USERZIPCODE  USERAGENT  PLATFORMTYPE   URL  KEYWORDS  IS_HCP  \\\n",
       "0      97206.0       3100             3   746       474     0.0   \n",
       "1      22202.0       2913             3   789       111     0.0   \n",
       "2      83654.0       2913             3   746       474     0.0   \n",
       "3  229114624.0       3191             3   394       282     1.0   \n",
       "4      77008.0       4371             3  1763       266     0.0   \n",
       "\n",
       "   USERZIPCODE_flag  USERCITY_flag    TAXONOMY  \n",
       "0                 0              0         NaN  \n",
       "1                 0              0         NaN  \n",
       "2                 0              0         NaN  \n",
       "3                 0              1  2084P0800X  \n",
       "4                 0              0         NaN  "
      ]
     },
     "execution_count": 42,
     "metadata": {},
     "output_type": "execute_result"
    }
   ],
   "source": [
    "df_train.head()"
   ]
  },
  {
   "cell_type": "code",
   "execution_count": 43,
   "metadata": {},
   "outputs": [],
   "source": [
    "df_train.loc[train_df['IS_HCP'] == 0, 'TAXONOMY'] = '0'"
   ]
  },
  {
   "cell_type": "code",
   "execution_count": 44,
   "metadata": {},
   "outputs": [
    {
     "data": {
      "text/plain": [
       "ID                     0\n",
       "DEVICETYPE             0\n",
       "PLATFORM_ID            0\n",
       "BIDREQUESTIP           0\n",
       "USERPLATFORMUID        0\n",
       "USERCITY               0\n",
       "USERZIPCODE            0\n",
       "USERAGENT              0\n",
       "PLATFORMTYPE           0\n",
       "URL                    0\n",
       "KEYWORDS               0\n",
       "IS_HCP                 0\n",
       "USERZIPCODE_flag       0\n",
       "USERCITY_flag          0\n",
       "TAXONOMY            1867\n",
       "dtype: int64"
      ]
     },
     "execution_count": 44,
     "metadata": {},
     "output_type": "execute_result"
    }
   ],
   "source": [
    "df_train.isnull().sum()"
   ]
  },
  {
   "cell_type": "code",
   "execution_count": 45,
   "metadata": {},
   "outputs": [
    {
     "data": {
      "text/plain": [
       "ID                  113930\n",
       "DEVICETYPE               4\n",
       "PLATFORM_ID             15\n",
       "BIDREQUESTIP         33660\n",
       "USERPLATFORMUID      53778\n",
       "USERCITY              4420\n",
       "USERZIPCODE          11278\n",
       "USERAGENT             4288\n",
       "PLATFORMTYPE             5\n",
       "URL                   5229\n",
       "KEYWORDS              2458\n",
       "IS_HCP                   2\n",
       "USERZIPCODE_flag         2\n",
       "USERCITY_flag            2\n",
       "TAXONOMY               208\n",
       "dtype: int64"
      ]
     },
     "execution_count": 45,
     "metadata": {},
     "output_type": "execute_result"
    }
   ],
   "source": [
    "df_train.nunique()"
   ]
  },
  {
   "cell_type": "code",
   "execution_count": 46,
   "metadata": {},
   "outputs": [
    {
     "data": {
      "text/plain": [
       "TAXONOMY\n",
       "0             79754\n",
       "2084P0800X     7928\n",
       "2084N0400X     6621\n",
       "207Q00000X     3997\n",
       "207R00000X     3190\n",
       "              ...  \n",
       "163WC0400X        1\n",
       "246QM0706X        1\n",
       "1835N1003X        1\n",
       "207RI0008X        1\n",
       "207XX0801X        1\n",
       "Name: count, Length: 208, dtype: int64"
      ]
     },
     "execution_count": 46,
     "metadata": {},
     "output_type": "execute_result"
    }
   ],
   "source": [
    "df_train['TAXONOMY'].value_counts()"
   ]
  },
  {
   "cell_type": "code",
   "execution_count": 47,
   "metadata": {},
   "outputs": [
    {
     "data": {
      "text/plain": [
       "ID                     0\n",
       "DEVICETYPE             0\n",
       "PLATFORM_ID            0\n",
       "BIDREQUESTIP           0\n",
       "USERPLATFORMUID        0\n",
       "USERCITY               0\n",
       "USERZIPCODE            0\n",
       "USERAGENT              0\n",
       "PLATFORMTYPE           0\n",
       "URL                    0\n",
       "KEYWORDS               0\n",
       "IS_HCP                 0\n",
       "USERZIPCODE_flag       0\n",
       "USERCITY_flag          0\n",
       "TAXONOMY            1867\n",
       "dtype: int64"
      ]
     },
     "execution_count": 47,
     "metadata": {},
     "output_type": "execute_result"
    }
   ],
   "source": [
    "df_train.isnull().sum()"
   ]
  },
  {
   "cell_type": "code",
   "execution_count": 48,
   "metadata": {},
   "outputs": [
    {
     "name": "stderr",
     "output_type": "stream",
     "text": [
      "C:\\Users\\ASUS\\AppData\\Local\\Temp\\ipykernel_13972\\3559284948.py:1: SettingWithCopyWarning: \n",
      "A value is trying to be set on a copy of a slice from a DataFrame.\n",
      "Try using .loc[row_indexer,col_indexer] = value instead\n",
      "\n",
      "See the caveats in the documentation: https://pandas.pydata.org/pandas-docs/stable/user_guide/indexing.html#returning-a-view-versus-a-copy\n",
      "  df_train['TAXONOMY']=df_train['TAXONOMY'].fillna(df_train['TAXONOMY'].mode().iloc[0])\n"
     ]
    }
   ],
   "source": [
    "df_train['TAXONOMY']=df_train['TAXONOMY'].fillna(df_train['TAXONOMY'].mode().iloc[0])"
   ]
  },
  {
   "cell_type": "code",
   "execution_count": 49,
   "metadata": {},
   "outputs": [
    {
     "data": {
      "text/html": [
       "<div>\n",
       "<style scoped>\n",
       "    .dataframe tbody tr th:only-of-type {\n",
       "        vertical-align: middle;\n",
       "    }\n",
       "\n",
       "    .dataframe tbody tr th {\n",
       "        vertical-align: top;\n",
       "    }\n",
       "\n",
       "    .dataframe thead th {\n",
       "        text-align: right;\n",
       "    }\n",
       "</style>\n",
       "<table border=\"1\" class=\"dataframe\">\n",
       "  <thead>\n",
       "    <tr style=\"text-align: right;\">\n",
       "      <th></th>\n",
       "      <th>ID</th>\n",
       "      <th>DEVICETYPE</th>\n",
       "      <th>PLATFORM_ID</th>\n",
       "      <th>BIDREQUESTIP</th>\n",
       "      <th>USERPLATFORMUID</th>\n",
       "      <th>USERCITY</th>\n",
       "      <th>USERZIPCODE</th>\n",
       "      <th>USERAGENT</th>\n",
       "      <th>PLATFORMTYPE</th>\n",
       "      <th>URL</th>\n",
       "      <th>KEYWORDS</th>\n",
       "      <th>IS_HCP</th>\n",
       "      <th>USERZIPCODE_flag</th>\n",
       "      <th>USERCITY_flag</th>\n",
       "    </tr>\n",
       "  </thead>\n",
       "  <tbody>\n",
       "    <tr>\n",
       "      <th>0</th>\n",
       "      <td>115501</td>\n",
       "      <td>0</td>\n",
       "      <td>2</td>\n",
       "      <td>32158</td>\n",
       "      <td>3285</td>\n",
       "      <td>1290</td>\n",
       "      <td>28305.0</td>\n",
       "      <td>2706</td>\n",
       "      <td>3</td>\n",
       "      <td>941</td>\n",
       "      <td>420</td>\n",
       "      <td>0.0</td>\n",
       "      <td>0</td>\n",
       "      <td>0</td>\n",
       "    </tr>\n",
       "    <tr>\n",
       "      <th>1</th>\n",
       "      <td>115502</td>\n",
       "      <td>1</td>\n",
       "      <td>2</td>\n",
       "      <td>16245</td>\n",
       "      <td>49641</td>\n",
       "      <td>826</td>\n",
       "      <td>16316.0</td>\n",
       "      <td>4159</td>\n",
       "      <td>3</td>\n",
       "      <td>4739</td>\n",
       "      <td>464</td>\n",
       "      <td>1.0</td>\n",
       "      <td>0</td>\n",
       "      <td>0</td>\n",
       "    </tr>\n",
       "    <tr>\n",
       "      <th>2</th>\n",
       "      <td>115503</td>\n",
       "      <td>0</td>\n",
       "      <td>2</td>\n",
       "      <td>7458</td>\n",
       "      <td>15080</td>\n",
       "      <td>881</td>\n",
       "      <td>91724.0</td>\n",
       "      <td>2863</td>\n",
       "      <td>3</td>\n",
       "      <td>4777</td>\n",
       "      <td>0</td>\n",
       "      <td>0.0</td>\n",
       "      <td>0</td>\n",
       "      <td>0</td>\n",
       "    </tr>\n",
       "    <tr>\n",
       "      <th>3</th>\n",
       "      <td>115504</td>\n",
       "      <td>0</td>\n",
       "      <td>7</td>\n",
       "      <td>25932</td>\n",
       "      <td>15468</td>\n",
       "      <td>477</td>\n",
       "      <td>11226.0</td>\n",
       "      <td>2899</td>\n",
       "      <td>3</td>\n",
       "      <td>1439</td>\n",
       "      <td>545</td>\n",
       "      <td>0.0</td>\n",
       "      <td>0</td>\n",
       "      <td>0</td>\n",
       "    </tr>\n",
       "    <tr>\n",
       "      <th>4</th>\n",
       "      <td>115505</td>\n",
       "      <td>0</td>\n",
       "      <td>2</td>\n",
       "      <td>30838</td>\n",
       "      <td>58515</td>\n",
       "      <td>2399</td>\n",
       "      <td>30062.0</td>\n",
       "      <td>3011</td>\n",
       "      <td>3</td>\n",
       "      <td>5163</td>\n",
       "      <td>1153</td>\n",
       "      <td>1.0</td>\n",
       "      <td>0</td>\n",
       "      <td>0</td>\n",
       "    </tr>\n",
       "  </tbody>\n",
       "</table>\n",
       "</div>"
      ],
      "text/plain": [
       "       ID  DEVICETYPE  PLATFORM_ID  BIDREQUESTIP  USERPLATFORMUID  USERCITY  \\\n",
       "0  115501           0            2         32158             3285      1290   \n",
       "1  115502           1            2         16245            49641       826   \n",
       "2  115503           0            2          7458            15080       881   \n",
       "3  115504           0            7         25932            15468       477   \n",
       "4  115505           0            2         30838            58515      2399   \n",
       "\n",
       "   USERZIPCODE  USERAGENT  PLATFORMTYPE   URL  KEYWORDS  IS_HCP  \\\n",
       "0      28305.0       2706             3   941       420     0.0   \n",
       "1      16316.0       4159             3  4739       464     1.0   \n",
       "2      91724.0       2863             3  4777         0     0.0   \n",
       "3      11226.0       2899             3  1439       545     0.0   \n",
       "4      30062.0       3011             3  5163      1153     1.0   \n",
       "\n",
       "   USERZIPCODE_flag  USERCITY_flag  \n",
       "0                 0              0  \n",
       "1                 0              0  \n",
       "2                 0              0  \n",
       "3                 0              0  \n",
       "4                 0              0  "
      ]
     },
     "execution_count": 49,
     "metadata": {},
     "output_type": "execute_result"
    }
   ],
   "source": [
    "df_test.head()"
   ]
  },
  {
   "cell_type": "code",
   "execution_count": 50,
   "metadata": {},
   "outputs": [],
   "source": [
    "y = df_train['TAXONOMY']\n",
    "X = df_train.drop(['TAXONOMY','ID'],axis=1).copy()"
   ]
  },
  {
   "cell_type": "code",
   "execution_count": 51,
   "metadata": {},
   "outputs": [
    {
     "data": {
      "text/plain": [
       "0"
      ]
     },
     "execution_count": 51,
     "metadata": {},
     "output_type": "execute_result"
    }
   ],
   "source": [
    "y.isnull().sum()"
   ]
  },
  {
   "cell_type": "code",
   "execution_count": 52,
   "metadata": {},
   "outputs": [],
   "source": [
    "X_train,X_test,y_train,y_test = train_test_split(X,y,test_size=0.2,random_state=4)"
   ]
  },
  {
   "cell_type": "code",
   "execution_count": 53,
   "metadata": {},
   "outputs": [],
   "source": [
    "from sklearn.linear_model import LogisticRegression\n",
    "from sklearn.svm import SVC\n",
    "from sklearn.naive_bayes import MultinomialNB\n",
    "from sklearn.naive_bayes import BernoulliNB\n",
    "from sklearn.tree import DecisionTreeClassifier\n",
    "from sklearn.neighbors import KNeighborsClassifier\n",
    "from sklearn.ensemble import RandomForestClassifier\n",
    "from sklearn.ensemble import AdaBoostClassifier\n",
    "from sklearn.ensemble import BaggingClassifier\n",
    "from sklearn.ensemble import ExtraTreesClassifier\n",
    "from xgboost import XGBClassifier\n",
    "from sklearn.ensemble import GradientBoostingClassifier"
   ]
  },
  {
   "cell_type": "code",
   "execution_count": 54,
   "metadata": {},
   "outputs": [],
   "source": [
    "# svc = SVC(kernel='sigmoid', gamma=1.0)\n",
    "# knc = KNeighborsClassifier()\n",
    "# mnb = MultinomialNB()\n",
    "# bnb = BernoulliNB()\n",
    "# dtc = DecisionTreeClassifier(max_depth=10)\n",
    "# gbdt = GradientBoostingClassifier(n_estimators=50,random_state=42)\n",
    "# lrc = LogisticRegression(solver='liblinear', penalty='l1')\n",
    "# abc = AdaBoostClassifier(n_estimators=50, random_state=42)\n",
    "rfc = RandomForestClassifier(n_estimators=100, random_state=4)\n",
    "bc = BaggingClassifier(n_estimators=100, random_state=4, max_samples=0.8, max_features=0.8)\n",
    "etc = ExtraTreesClassifier(n_estimators=100, random_state=4)\n",
    "# xgb = XGBClassifier(n_estimators=100,random_state=4,learning_rate=0.1,max_depth=20)"
   ]
  },
  {
   "cell_type": "code",
   "execution_count": 55,
   "metadata": {},
   "outputs": [],
   "source": [
    "clfs = {\n",
    "    # 'SVC' : svc,\n",
    "    # 'KNN' : knc, \n",
    "    # 'MNB': mnb,\n",
    "    # 'BNB': bnb,\n",
    "    # 'DT': dtc, \n",
    "    # 'LR': lrc, \n",
    "    'RF': rfc, \n",
    "    # 'AdaBoost': abc, \n",
    "    'BgC': bc, \n",
    "    'ETC': etc\n",
    "    # 'GBDT':gbdt\n",
    "    # 'xgb':xgb\n",
    "}"
   ]
  },
  {
   "cell_type": "code",
   "execution_count": 56,
   "metadata": {},
   "outputs": [
    {
     "name": "stdout",
     "output_type": "stream",
     "text": [
      "For  RF\n",
      "Accuracy -  0.9181076099359256\n",
      "Precision -  0.9244142122350351\n",
      "For  BgC\n",
      "Accuracy -  0.9207408057579215\n",
      "Precision -  0.9277142972604435\n",
      "For  ETC\n",
      "Accuracy -  0.9172298779952602\n",
      "Precision -  0.9234717970737568\n"
     ]
    }
   ],
   "source": [
    "accuracy_scores = []\n",
    "precision_scores = []\n",
    "\n",
    "for name,clf in clfs.items():\n",
    "    \n",
    "    current_accuracy,current_precision = train_classifier(clf, X_train,y_train,X_test,y_test)\n",
    "    \n",
    "    print(\"For \",name)\n",
    "    print(\"Accuracy - \",current_accuracy)\n",
    "    print(\"Precision - \",current_precision)\n",
    "    \n",
    "    \n",
    "    accuracy_scores.append(current_accuracy)\n",
    "    precision_scores.append(current_precision)"
   ]
  },
  {
   "cell_type": "code",
   "execution_count": 57,
   "metadata": {},
   "outputs": [
    {
     "data": {
      "text/html": [
       "<div>\n",
       "<style scoped>\n",
       "    .dataframe tbody tr th:only-of-type {\n",
       "        vertical-align: middle;\n",
       "    }\n",
       "\n",
       "    .dataframe tbody tr th {\n",
       "        vertical-align: top;\n",
       "    }\n",
       "\n",
       "    .dataframe thead th {\n",
       "        text-align: right;\n",
       "    }\n",
       "</style>\n",
       "<table border=\"1\" class=\"dataframe\">\n",
       "  <thead>\n",
       "    <tr style=\"text-align: right;\">\n",
       "      <th></th>\n",
       "      <th>Algorithm</th>\n",
       "      <th>Accuracy</th>\n",
       "      <th>Precision</th>\n",
       "    </tr>\n",
       "  </thead>\n",
       "  <tbody>\n",
       "    <tr>\n",
       "      <th>1</th>\n",
       "      <td>BgC</td>\n",
       "      <td>0.920741</td>\n",
       "      <td>0.927714</td>\n",
       "    </tr>\n",
       "    <tr>\n",
       "      <th>0</th>\n",
       "      <td>RF</td>\n",
       "      <td>0.918108</td>\n",
       "      <td>0.924414</td>\n",
       "    </tr>\n",
       "    <tr>\n",
       "      <th>2</th>\n",
       "      <td>ETC</td>\n",
       "      <td>0.917230</td>\n",
       "      <td>0.923472</td>\n",
       "    </tr>\n",
       "  </tbody>\n",
       "</table>\n",
       "</div>"
      ],
      "text/plain": [
       "  Algorithm  Accuracy  Precision\n",
       "1       BgC  0.920741   0.927714\n",
       "0        RF  0.918108   0.924414\n",
       "2       ETC  0.917230   0.923472"
      ]
     },
     "execution_count": 57,
     "metadata": {},
     "output_type": "execute_result"
    }
   ],
   "source": [
    "performance_df = pd.DataFrame({'Algorithm':clfs.keys(),'Accuracy':accuracy_scores,'Precision':precision_scores}).sort_values('Accuracy',ascending=False)\n",
    "performance_df"
   ]
  },
  {
   "cell_type": "code",
   "execution_count": 58,
   "metadata": {},
   "outputs": [
    {
     "name": "stdout",
     "output_type": "stream",
     "text": [
      "Accuracy: 0.9197314140261564\n",
      "Precision: 0.9267840437989016\n"
     ]
    }
   ],
   "source": [
    "from sklearn.ensemble import VotingClassifier\n",
    "estimators=[('BgC', bc), ('etc', etc),('rfc',rfc)]\n",
    "\n",
    "voting_clf = VotingClassifier(estimators=estimators, voting='soft')\n",
    "\n",
    "# Fit the voting ensemble\n",
    "voting_clf.fit(X_train, y_train)\n",
    "\n",
    "# Make predictions\n",
    "y_pred = voting_clf.predict(X_test)\n",
    "\n",
    "# Calculate metrics\n",
    "print(\"Accuracy:\", accuracy_score(y_test, y_pred))\n",
    "print(\"Precision:\", precision_score(y_test, y_pred,zero_division=1,average='weighted'))"
   ]
  },
  {
   "cell_type": "code",
   "execution_count": 59,
   "metadata": {},
   "outputs": [
    {
     "data": {
      "text/html": [
       "<div>\n",
       "<style scoped>\n",
       "    .dataframe tbody tr th:only-of-type {\n",
       "        vertical-align: middle;\n",
       "    }\n",
       "\n",
       "    .dataframe tbody tr th {\n",
       "        vertical-align: top;\n",
       "    }\n",
       "\n",
       "    .dataframe thead th {\n",
       "        text-align: right;\n",
       "    }\n",
       "</style>\n",
       "<table border=\"1\" class=\"dataframe\">\n",
       "  <thead>\n",
       "    <tr style=\"text-align: right;\">\n",
       "      <th></th>\n",
       "      <th>ID</th>\n",
       "      <th>DEVICETYPE</th>\n",
       "      <th>PLATFORM_ID</th>\n",
       "      <th>BIDREQUESTIP</th>\n",
       "      <th>USERPLATFORMUID</th>\n",
       "      <th>USERCITY</th>\n",
       "      <th>USERZIPCODE</th>\n",
       "      <th>USERAGENT</th>\n",
       "      <th>PLATFORMTYPE</th>\n",
       "      <th>URL</th>\n",
       "      <th>KEYWORDS</th>\n",
       "      <th>IS_HCP</th>\n",
       "      <th>USERZIPCODE_flag</th>\n",
       "      <th>USERCITY_flag</th>\n",
       "    </tr>\n",
       "  </thead>\n",
       "  <tbody>\n",
       "    <tr>\n",
       "      <th>0</th>\n",
       "      <td>115501</td>\n",
       "      <td>0</td>\n",
       "      <td>2</td>\n",
       "      <td>32158</td>\n",
       "      <td>3285</td>\n",
       "      <td>1290</td>\n",
       "      <td>28305.0</td>\n",
       "      <td>2706</td>\n",
       "      <td>3</td>\n",
       "      <td>941</td>\n",
       "      <td>420</td>\n",
       "      <td>0.0</td>\n",
       "      <td>0</td>\n",
       "      <td>0</td>\n",
       "    </tr>\n",
       "    <tr>\n",
       "      <th>1</th>\n",
       "      <td>115502</td>\n",
       "      <td>1</td>\n",
       "      <td>2</td>\n",
       "      <td>16245</td>\n",
       "      <td>49641</td>\n",
       "      <td>826</td>\n",
       "      <td>16316.0</td>\n",
       "      <td>4159</td>\n",
       "      <td>3</td>\n",
       "      <td>4739</td>\n",
       "      <td>464</td>\n",
       "      <td>1.0</td>\n",
       "      <td>0</td>\n",
       "      <td>0</td>\n",
       "    </tr>\n",
       "    <tr>\n",
       "      <th>2</th>\n",
       "      <td>115503</td>\n",
       "      <td>0</td>\n",
       "      <td>2</td>\n",
       "      <td>7458</td>\n",
       "      <td>15080</td>\n",
       "      <td>881</td>\n",
       "      <td>91724.0</td>\n",
       "      <td>2863</td>\n",
       "      <td>3</td>\n",
       "      <td>4777</td>\n",
       "      <td>0</td>\n",
       "      <td>0.0</td>\n",
       "      <td>0</td>\n",
       "      <td>0</td>\n",
       "    </tr>\n",
       "    <tr>\n",
       "      <th>3</th>\n",
       "      <td>115504</td>\n",
       "      <td>0</td>\n",
       "      <td>7</td>\n",
       "      <td>25932</td>\n",
       "      <td>15468</td>\n",
       "      <td>477</td>\n",
       "      <td>11226.0</td>\n",
       "      <td>2899</td>\n",
       "      <td>3</td>\n",
       "      <td>1439</td>\n",
       "      <td>545</td>\n",
       "      <td>0.0</td>\n",
       "      <td>0</td>\n",
       "      <td>0</td>\n",
       "    </tr>\n",
       "    <tr>\n",
       "      <th>4</th>\n",
       "      <td>115505</td>\n",
       "      <td>0</td>\n",
       "      <td>2</td>\n",
       "      <td>30838</td>\n",
       "      <td>58515</td>\n",
       "      <td>2399</td>\n",
       "      <td>30062.0</td>\n",
       "      <td>3011</td>\n",
       "      <td>3</td>\n",
       "      <td>5163</td>\n",
       "      <td>1153</td>\n",
       "      <td>1.0</td>\n",
       "      <td>0</td>\n",
       "      <td>0</td>\n",
       "    </tr>\n",
       "  </tbody>\n",
       "</table>\n",
       "</div>"
      ],
      "text/plain": [
       "       ID  DEVICETYPE  PLATFORM_ID  BIDREQUESTIP  USERPLATFORMUID  USERCITY  \\\n",
       "0  115501           0            2         32158             3285      1290   \n",
       "1  115502           1            2         16245            49641       826   \n",
       "2  115503           0            2          7458            15080       881   \n",
       "3  115504           0            7         25932            15468       477   \n",
       "4  115505           0            2         30838            58515      2399   \n",
       "\n",
       "   USERZIPCODE  USERAGENT  PLATFORMTYPE   URL  KEYWORDS  IS_HCP  \\\n",
       "0      28305.0       2706             3   941       420     0.0   \n",
       "1      16316.0       4159             3  4739       464     1.0   \n",
       "2      91724.0       2863             3  4777         0     0.0   \n",
       "3      11226.0       2899             3  1439       545     0.0   \n",
       "4      30062.0       3011             3  5163      1153     1.0   \n",
       "\n",
       "   USERZIPCODE_flag  USERCITY_flag  \n",
       "0                 0              0  \n",
       "1                 0              0  \n",
       "2                 0              0  \n",
       "3                 0              0  \n",
       "4                 0              0  "
      ]
     },
     "execution_count": 59,
     "metadata": {},
     "output_type": "execute_result"
    }
   ],
   "source": [
    "df_test.head()"
   ]
  },
  {
   "cell_type": "code",
   "execution_count": 60,
   "metadata": {},
   "outputs": [],
   "source": [
    "df_test_processing = df_test.drop('ID',axis=1).copy()"
   ]
  },
  {
   "cell_type": "code",
   "execution_count": 61,
   "metadata": {},
   "outputs": [
    {
     "name": "stderr",
     "output_type": "stream",
     "text": [
      "C:\\Users\\ASUS\\AppData\\Local\\Temp\\ipykernel_13972\\1030923363.py:1: SettingWithCopyWarning: \n",
      "A value is trying to be set on a copy of a slice from a DataFrame.\n",
      "Try using .loc[row_indexer,col_indexer] = value instead\n",
      "\n",
      "See the caveats in the documentation: https://pandas.pydata.org/pandas-docs/stable/user_guide/indexing.html#returning-a-view-versus-a-copy\n",
      "  df_test['TAXONOMY'] = voting_clf.predict(df_test_processing)\n"
     ]
    }
   ],
   "source": [
    "df_test['TAXONOMY'] = voting_clf.predict(df_test_processing)"
   ]
  },
  {
   "cell_type": "code",
   "execution_count": 62,
   "metadata": {},
   "outputs": [],
   "source": [
    "final=df_test[['ID','TAXONOMY','IS_HCP']]"
   ]
  },
  {
   "cell_type": "code",
   "execution_count": 63,
   "metadata": {},
   "outputs": [
    {
     "name": "stderr",
     "output_type": "stream",
     "text": [
      "C:\\Users\\ASUS\\AppData\\Local\\Temp\\ipykernel_13972\\2765737808.py:1: SettingWithCopyWarning: \n",
      "A value is trying to be set on a copy of a slice from a DataFrame.\n",
      "Try using .loc[row_indexer,col_indexer] = value instead\n",
      "\n",
      "See the caveats in the documentation: https://pandas.pydata.org/pandas-docs/stable/user_guide/indexing.html#returning-a-view-versus-a-copy\n",
      "  final['TAXONOMY'] = final['TAXONOMY'].replace('0',np.nan)\n"
     ]
    }
   ],
   "source": [
    "final['TAXONOMY'] = final['TAXONOMY'].replace('0',np.nan)"
   ]
  },
  {
   "cell_type": "code",
   "execution_count": 64,
   "metadata": {},
   "outputs": [
    {
     "data": {
      "text/html": [
       "<div>\n",
       "<style scoped>\n",
       "    .dataframe tbody tr th:only-of-type {\n",
       "        vertical-align: middle;\n",
       "    }\n",
       "\n",
       "    .dataframe tbody tr th {\n",
       "        vertical-align: top;\n",
       "    }\n",
       "\n",
       "    .dataframe thead th {\n",
       "        text-align: right;\n",
       "    }\n",
       "</style>\n",
       "<table border=\"1\" class=\"dataframe\">\n",
       "  <thead>\n",
       "    <tr style=\"text-align: right;\">\n",
       "      <th></th>\n",
       "      <th>ID</th>\n",
       "      <th>TAXONOMY</th>\n",
       "      <th>IS_HCP</th>\n",
       "    </tr>\n",
       "  </thead>\n",
       "  <tbody>\n",
       "    <tr>\n",
       "      <th>0</th>\n",
       "      <td>115501</td>\n",
       "      <td>NaN</td>\n",
       "      <td>0.0</td>\n",
       "    </tr>\n",
       "    <tr>\n",
       "      <th>1</th>\n",
       "      <td>115502</td>\n",
       "      <td>2084P0800X</td>\n",
       "      <td>1.0</td>\n",
       "    </tr>\n",
       "    <tr>\n",
       "      <th>2</th>\n",
       "      <td>115503</td>\n",
       "      <td>NaN</td>\n",
       "      <td>0.0</td>\n",
       "    </tr>\n",
       "    <tr>\n",
       "      <th>3</th>\n",
       "      <td>115504</td>\n",
       "      <td>NaN</td>\n",
       "      <td>0.0</td>\n",
       "    </tr>\n",
       "    <tr>\n",
       "      <th>4</th>\n",
       "      <td>115505</td>\n",
       "      <td>2084P0800X</td>\n",
       "      <td>1.0</td>\n",
       "    </tr>\n",
       "  </tbody>\n",
       "</table>\n",
       "</div>"
      ],
      "text/plain": [
       "       ID    TAXONOMY  IS_HCP\n",
       "0  115501         NaN     0.0\n",
       "1  115502  2084P0800X     1.0\n",
       "2  115503         NaN     0.0\n",
       "3  115504         NaN     0.0\n",
       "4  115505  2084P0800X     1.0"
      ]
     },
     "execution_count": 64,
     "metadata": {},
     "output_type": "execute_result"
    }
   ],
   "source": [
    "final.head()"
   ]
  },
  {
   "cell_type": "code",
   "execution_count": 65,
   "metadata": {},
   "outputs": [
    {
     "data": {
      "text/plain": [
       "(28493, 3)"
      ]
     },
     "execution_count": 65,
     "metadata": {},
     "output_type": "execute_result"
    }
   ],
   "source": [
    "final.shape"
   ]
  },
  {
   "cell_type": "code",
   "execution_count": 67,
   "metadata": {},
   "outputs": [],
   "source": [
    "final.to_csv('final_submission.csv',index=False)"
   ]
  },
  {
   "cell_type": "code",
   "execution_count": null,
   "metadata": {},
   "outputs": [],
   "source": []
  }
 ],
 "metadata": {
  "kernelspec": {
   "display_name": "base",
   "language": "python",
   "name": "python3"
  },
  "language_info": {
   "codemirror_mode": {
    "name": "ipython",
    "version": 3
   },
   "file_extension": ".py",
   "mimetype": "text/x-python",
   "name": "python",
   "nbconvert_exporter": "python",
   "pygments_lexer": "ipython3",
   "version": "3.11.4"
  },
  "orig_nbformat": 4
 },
 "nbformat": 4,
 "nbformat_minor": 2
}
